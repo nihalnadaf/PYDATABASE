{
 "cells": [
  {
   "cell_type": "code",
   "execution_count": 1,
   "metadata": {},
   "outputs": [],
   "source": [
    "#importing required libraries\n",
    "import numpy as np\n",
    "import pandas as pd\n",
    "import matplotlib.pyplot as plt\n",
    "%matplotlib inline\n",
    "#import warnings\n",
    "#warnings.filterwarnings(\"ignore\")"
   ]
  },
  {
   "cell_type": "markdown",
   "metadata": {},
   "source": [
    "#### Read data\n",
    "In this demo, we are going to work on credit_risk dataset, where based on the different parameters, a customer is going to be marked with the class label - good / bad"
   ]
  },
  {
   "cell_type": "code",
   "execution_count": 2,
   "metadata": {},
   "outputs": [],
   "source": [
    "# reading input data from csv file\n",
    "credit_data = pd.read_csv(\"datasets/credit_risk.csv\")"
   ]
  },
  {
   "cell_type": "code",
   "execution_count": 3,
   "metadata": {},
   "outputs": [
    {
     "data": {
      "text/html": [
       "<div>\n",
       "<style scoped>\n",
       "    .dataframe tbody tr th:only-of-type {\n",
       "        vertical-align: middle;\n",
       "    }\n",
       "\n",
       "    .dataframe tbody tr th {\n",
       "        vertical-align: top;\n",
       "    }\n",
       "\n",
       "    .dataframe thead th {\n",
       "        text-align: right;\n",
       "    }\n",
       "</style>\n",
       "<table border=\"1\" class=\"dataframe\">\n",
       "  <thead>\n",
       "    <tr style=\"text-align: right;\">\n",
       "      <th></th>\n",
       "      <th>over_draft</th>\n",
       "      <th>credit_usage</th>\n",
       "      <th>credit_history</th>\n",
       "      <th>purpose</th>\n",
       "      <th>current_balance</th>\n",
       "      <th>Average_Credit_Balance</th>\n",
       "      <th>employment</th>\n",
       "      <th>location</th>\n",
       "      <th>personal_status</th>\n",
       "      <th>other_parties</th>\n",
       "      <th>...</th>\n",
       "      <th>property_magnitude</th>\n",
       "      <th>cc_age</th>\n",
       "      <th>other_payment_plans</th>\n",
       "      <th>housing</th>\n",
       "      <th>existing_credits</th>\n",
       "      <th>job</th>\n",
       "      <th>num_dependents</th>\n",
       "      <th>own_telephone</th>\n",
       "      <th>foreign_worker</th>\n",
       "      <th>class</th>\n",
       "    </tr>\n",
       "  </thead>\n",
       "  <tbody>\n",
       "    <tr>\n",
       "      <th>0</th>\n",
       "      <td>&lt;0</td>\n",
       "      <td>6</td>\n",
       "      <td>critical/other existing credit</td>\n",
       "      <td>radio/tv</td>\n",
       "      <td>1169</td>\n",
       "      <td>no known savings</td>\n",
       "      <td>&gt;=7</td>\n",
       "      <td>4</td>\n",
       "      <td>male single</td>\n",
       "      <td>none</td>\n",
       "      <td>...</td>\n",
       "      <td>real estate</td>\n",
       "      <td>67</td>\n",
       "      <td>none</td>\n",
       "      <td>own</td>\n",
       "      <td>2</td>\n",
       "      <td>skilled</td>\n",
       "      <td>1</td>\n",
       "      <td>yes</td>\n",
       "      <td>yes</td>\n",
       "      <td>good</td>\n",
       "    </tr>\n",
       "    <tr>\n",
       "      <th>1</th>\n",
       "      <td>0&lt;=X&lt;200</td>\n",
       "      <td>48</td>\n",
       "      <td>existing paid</td>\n",
       "      <td>radio/tv</td>\n",
       "      <td>5951</td>\n",
       "      <td>&lt;100</td>\n",
       "      <td>1&lt;=X&lt;4</td>\n",
       "      <td>2</td>\n",
       "      <td>female div/dep/mar</td>\n",
       "      <td>none</td>\n",
       "      <td>...</td>\n",
       "      <td>real estate</td>\n",
       "      <td>22</td>\n",
       "      <td>none</td>\n",
       "      <td>own</td>\n",
       "      <td>1</td>\n",
       "      <td>skilled</td>\n",
       "      <td>1</td>\n",
       "      <td>none</td>\n",
       "      <td>yes</td>\n",
       "      <td>bad</td>\n",
       "    </tr>\n",
       "    <tr>\n",
       "      <th>2</th>\n",
       "      <td>no checking</td>\n",
       "      <td>12</td>\n",
       "      <td>critical/other existing credit</td>\n",
       "      <td>education</td>\n",
       "      <td>2096</td>\n",
       "      <td>&lt;100</td>\n",
       "      <td>4&lt;=X&lt;7</td>\n",
       "      <td>2</td>\n",
       "      <td>male single</td>\n",
       "      <td>none</td>\n",
       "      <td>...</td>\n",
       "      <td>real estate</td>\n",
       "      <td>49</td>\n",
       "      <td>none</td>\n",
       "      <td>own</td>\n",
       "      <td>1</td>\n",
       "      <td>unskilled resident</td>\n",
       "      <td>2</td>\n",
       "      <td>none</td>\n",
       "      <td>yes</td>\n",
       "      <td>good</td>\n",
       "    </tr>\n",
       "    <tr>\n",
       "      <th>3</th>\n",
       "      <td>&lt;0</td>\n",
       "      <td>42</td>\n",
       "      <td>existing paid</td>\n",
       "      <td>furniture/equipment</td>\n",
       "      <td>7882</td>\n",
       "      <td>&lt;100</td>\n",
       "      <td>4&lt;=X&lt;7</td>\n",
       "      <td>2</td>\n",
       "      <td>male single</td>\n",
       "      <td>guarantor</td>\n",
       "      <td>...</td>\n",
       "      <td>life insurance</td>\n",
       "      <td>45</td>\n",
       "      <td>none</td>\n",
       "      <td>for free</td>\n",
       "      <td>1</td>\n",
       "      <td>skilled</td>\n",
       "      <td>2</td>\n",
       "      <td>none</td>\n",
       "      <td>yes</td>\n",
       "      <td>good</td>\n",
       "    </tr>\n",
       "    <tr>\n",
       "      <th>4</th>\n",
       "      <td>&lt;0</td>\n",
       "      <td>24</td>\n",
       "      <td>delayed previously</td>\n",
       "      <td>new car</td>\n",
       "      <td>4870</td>\n",
       "      <td>&lt;100</td>\n",
       "      <td>1&lt;=X&lt;4</td>\n",
       "      <td>3</td>\n",
       "      <td>male single</td>\n",
       "      <td>none</td>\n",
       "      <td>...</td>\n",
       "      <td>no known property</td>\n",
       "      <td>53</td>\n",
       "      <td>none</td>\n",
       "      <td>for free</td>\n",
       "      <td>2</td>\n",
       "      <td>skilled</td>\n",
       "      <td>2</td>\n",
       "      <td>none</td>\n",
       "      <td>yes</td>\n",
       "      <td>bad</td>\n",
       "    </tr>\n",
       "  </tbody>\n",
       "</table>\n",
       "<p>5 rows × 21 columns</p>\n",
       "</div>"
      ],
      "text/plain": [
       "    over_draft  credit_usage                  credit_history  \\\n",
       "0           <0             6  critical/other existing credit   \n",
       "1     0<=X<200            48                   existing paid   \n",
       "2  no checking            12  critical/other existing credit   \n",
       "3           <0            42                   existing paid   \n",
       "4           <0            24              delayed previously   \n",
       "\n",
       "               purpose  current_balance Average_Credit_Balance employment  \\\n",
       "0             radio/tv             1169       no known savings        >=7   \n",
       "1             radio/tv             5951                   <100     1<=X<4   \n",
       "2            education             2096                   <100     4<=X<7   \n",
       "3  furniture/equipment             7882                   <100     4<=X<7   \n",
       "4              new car             4870                   <100     1<=X<4   \n",
       "\n",
       "   location     personal_status other_parties  ...  property_magnitude cc_age  \\\n",
       "0         4         male single          none  ...         real estate     67   \n",
       "1         2  female div/dep/mar          none  ...         real estate     22   \n",
       "2         2         male single          none  ...         real estate     49   \n",
       "3         2         male single     guarantor  ...      life insurance     45   \n",
       "4         3         male single          none  ...   no known property     53   \n",
       "\n",
       "   other_payment_plans   housing existing_credits                 job  \\\n",
       "0                 none       own                2             skilled   \n",
       "1                 none       own                1             skilled   \n",
       "2                 none       own                1  unskilled resident   \n",
       "3                 none  for free                1             skilled   \n",
       "4                 none  for free                2             skilled   \n",
       "\n",
       "  num_dependents  own_telephone foreign_worker class  \n",
       "0              1            yes            yes  good  \n",
       "1              1           none            yes   bad  \n",
       "2              2           none            yes  good  \n",
       "3              2           none            yes  good  \n",
       "4              2           none            yes   bad  \n",
       "\n",
       "[5 rows x 21 columns]"
      ]
     },
     "execution_count": 3,
     "metadata": {},
     "output_type": "execute_result"
    }
   ],
   "source": [
    "#viewing sample data\n",
    "credit_data.head()"
   ]
  },
  {
   "cell_type": "markdown",
   "metadata": {},
   "source": [
    "#### Feature Engineering\n",
    "Let us now look at the data to get insights on it, which will help us build a good model."
   ]
  },
  {
   "cell_type": "code",
   "execution_count": 4,
   "metadata": {},
   "outputs": [
    {
     "name": "stdout",
     "output_type": "stream",
     "text": [
      "<class 'pandas.core.frame.DataFrame'>\n",
      "RangeIndex: 1000 entries, 0 to 999\n",
      "Data columns (total 21 columns):\n",
      " #   Column                  Non-Null Count  Dtype \n",
      "---  ------                  --------------  ----- \n",
      " 0   over_draft              1000 non-null   object\n",
      " 1   credit_usage            1000 non-null   int64 \n",
      " 2   credit_history          1000 non-null   object\n",
      " 3   purpose                 1000 non-null   object\n",
      " 4   current_balance         1000 non-null   int64 \n",
      " 5   Average_Credit_Balance  1000 non-null   object\n",
      " 6   employment              1000 non-null   object\n",
      " 7   location                1000 non-null   int64 \n",
      " 8   personal_status         1000 non-null   object\n",
      " 9   other_parties           1000 non-null   object\n",
      " 10  residence_since         1000 non-null   int64 \n",
      " 11  property_magnitude      1000 non-null   object\n",
      " 12  cc_age                  1000 non-null   int64 \n",
      " 13  other_payment_plans     1000 non-null   object\n",
      " 14  housing                 1000 non-null   object\n",
      " 15  existing_credits        1000 non-null   int64 \n",
      " 16  job                     1000 non-null   object\n",
      " 17  num_dependents          1000 non-null   int64 \n",
      " 18  own_telephone           1000 non-null   object\n",
      " 19  foreign_worker          1000 non-null   object\n",
      " 20  class                   1000 non-null   object\n",
      "dtypes: int64(7), object(14)\n",
      "memory usage: 164.2+ KB\n"
     ]
    }
   ],
   "source": [
    "#checking if any null values are present in data, if present - data preprocessing has to be done.\n",
    "credit_data.info()"
   ]
  },
  {
   "cell_type": "code",
   "execution_count": 5,
   "metadata": {},
   "outputs": [
    {
     "data": {
      "text/plain": [
       "array(['good', 'bad'], dtype=object)"
      ]
     },
     "execution_count": 5,
     "metadata": {},
     "output_type": "execute_result"
    }
   ],
   "source": [
    "# Understanding the values the 'class' column (our target column in this analysis) can take\n",
    "credit_data['class'].unique()"
   ]
  },
  {
   "cell_type": "markdown",
   "metadata": {},
   "source": [
    "Consider all the columns except class as features. \n",
    "Class is considered as the target"
   ]
  },
  {
   "cell_type": "code",
   "execution_count": 6,
   "metadata": {},
   "outputs": [],
   "source": [
    "# Selecting predictors as all columns except the 'class' column\n",
    "X = credit_data.columns.drop(\"class\")\n",
    "\n",
    "# Setting the target as the 'class' column\n",
    "y = credit_data['class']"
   ]
  },
  {
   "cell_type": "markdown",
   "metadata": {},
   "source": [
    "#### Encoding the categorical variables"
   ]
  },
  {
   "cell_type": "code",
   "execution_count": 7,
   "metadata": {},
   "outputs": [],
   "source": [
    "# Encoding all the features/predictor variables using the get_dummies method() to convert categorical values to numerical values.\n",
    "credit_data_encoded = pd.get_dummies(credit_data[X])\n"
   ]
  },
  {
   "cell_type": "code",
   "execution_count": 8,
   "metadata": {},
   "outputs": [
    {
     "data": {
      "text/plain": [
       "(1000, 61)"
      ]
     },
     "execution_count": 8,
     "metadata": {},
     "output_type": "execute_result"
    }
   ],
   "source": [
    "#notice that, after encoding, the number of predictors/features columns have increased.\n",
    "credit_data_encoded.shape"
   ]
  },
  {
   "cell_type": "code",
   "execution_count": 9,
   "metadata": {},
   "outputs": [
    {
     "data": {
      "text/plain": [
       "Index(['credit_usage', 'current_balance', 'location', 'residence_since',\n",
       "       'cc_age', 'existing_credits', 'num_dependents', 'over_draft_0<=X<200',\n",
       "       'over_draft_<0', 'over_draft_>=200', 'over_draft_no checking',\n",
       "       'credit_history_all paid',\n",
       "       'credit_history_critical/other existing credit',\n",
       "       'credit_history_delayed previously', 'credit_history_existing paid',\n",
       "       'credit_history_no credits/all paid', 'purpose_business',\n",
       "       'purpose_domestic appliance', 'purpose_education',\n",
       "       'purpose_furniture/equipment', 'purpose_new car', 'purpose_other',\n",
       "       'purpose_radio/tv', 'purpose_repairs', 'purpose_retraining',\n",
       "       'purpose_used car', 'Average_Credit_Balance_100<=X<500',\n",
       "       'Average_Credit_Balance_500<=X<1000', 'Average_Credit_Balance_<100',\n",
       "       'Average_Credit_Balance_>=1000',\n",
       "       'Average_Credit_Balance_no known savings', 'employment_1<=X<4',\n",
       "       'employment_4<=X<7', 'employment_<1', 'employment_>=7',\n",
       "       'employment_unemployed', 'personal_status_female div/dep/mar',\n",
       "       'personal_status_male div/sep', 'personal_status_male mar/wid',\n",
       "       'personal_status_male single', 'other_parties_co applicant',\n",
       "       'other_parties_guarantor', 'other_parties_none',\n",
       "       'property_magnitude_car', 'property_magnitude_life insurance',\n",
       "       'property_magnitude_no known property',\n",
       "       'property_magnitude_real estate', 'other_payment_plans_bank',\n",
       "       'other_payment_plans_none', 'other_payment_plans_stores',\n",
       "       'housing_for free', 'housing_own', 'housing_rent',\n",
       "       'job_high qualif/self emp/mgmt', 'job_skilled',\n",
       "       'job_unemp/unskilled non res', 'job_unskilled resident',\n",
       "       'own_telephone_none', 'own_telephone_yes', 'foreign_worker_no',\n",
       "       'foreign_worker_yes'],\n",
       "      dtype='object')"
      ]
     },
     "execution_count": 9,
     "metadata": {},
     "output_type": "execute_result"
    }
   ],
   "source": [
    "credit_data_encoded.columns"
   ]
  },
  {
   "cell_type": "markdown",
   "metadata": {},
   "source": [
    "#### Splitting the data into train and test set in a ratio of 85:15"
   ]
  },
  {
   "cell_type": "code",
   "execution_count": 10,
   "metadata": {},
   "outputs": [
    {
     "name": "stdout",
     "output_type": "stream",
     "text": [
      "Shape of X_train: (850, 61)\n",
      "Shape of y_train: (850,)\n",
      "Shape of X_test: (150, 61)\n",
      "Shape of y_test: (150,)\n"
     ]
    }
   ],
   "source": [
    "# Importing the required module\n",
    "from sklearn.model_selection import train_test_split\n",
    "\n",
    "#splitting data into train and test datasets\n",
    "X_train,X_test,y_train,y_test = train_test_split(credit_data_encoded, y,test_size=0.15,random_state=100)\n",
    "\n",
    "# Checking the shapes of the resulting datasets\n",
    "print(\"Shape of X_train:\", X_train.shape)\n",
    "print(\"Shape of y_train:\", y_train.shape)\n",
    "print(\"Shape of X_test:\", X_test.shape)\n",
    "print(\"Shape of y_test:\", y_test.shape)"
   ]
  },
  {
   "cell_type": "markdown",
   "metadata": {},
   "source": [
    "#### Building a logistic regression model"
   ]
  },
  {
   "cell_type": "code",
   "execution_count": 11,
   "metadata": {},
   "outputs": [
    {
     "data": {
      "text/plain": [
       "LogisticRegression(max_iter=400)"
      ]
     },
     "execution_count": 11,
     "metadata": {},
     "output_type": "execute_result"
    }
   ],
   "source": [
    "#importing required module for model building\n",
    "from sklearn.linear_model import LogisticRegression\n",
    "\n",
    "# instantiating the required algorithm for model building\n",
    "model = LogisticRegression(max_iter=400)\n",
    "\n",
    "# Building model based on training data\n",
    "model.fit(X_train,y_train)"
   ]
  },
  {
   "cell_type": "code",
   "execution_count": 12,
   "metadata": {},
   "outputs": [],
   "source": [
    "#predicting targets based on the model built\n",
    "train_predictions = model.predict(X_train)\n",
    "test_predictions = model.predict(X_test)"
   ]
  },
  {
   "cell_type": "markdown",
   "metadata": {},
   "source": [
    "#### Evaluate model performance on train and test data"
   ]
  },
  {
   "cell_type": "code",
   "execution_count": 13,
   "metadata": {},
   "outputs": [
    {
     "name": "stdout",
     "output_type": "stream",
     "text": [
      "Train accuracy =  0.788235294117647\n",
      "Test accuracy =  0.7333333333333333\n"
     ]
    }
   ],
   "source": [
    "# Accuracy = no. of correct predictions / total predictions\n",
    "# score() method is used to find the accuracy of a model\n",
    "\n",
    "train_accuracy = model.score(X_train,y_train)\n",
    "print(\"Train accuracy = \", train_accuracy)\n",
    "\n",
    "test_accuracy = model.score(X_test,y_test)\n",
    "print(\"Test accuracy = \", test_accuracy)"
   ]
  },
  {
   "cell_type": "markdown",
   "metadata": {},
   "source": [
    "#### Confusion Matrix\n",
    "Confusion matrix helps to assess how good the model works on individual classes in the outcome.\n",
    "confusion matrix compares the actual target values and the predicted target values."
   ]
  },
  {
   "cell_type": "code",
   "execution_count": 14,
   "metadata": {},
   "outputs": [
    {
     "data": {
      "text/html": [
       "<div>\n",
       "<style scoped>\n",
       "    .dataframe tbody tr th:only-of-type {\n",
       "        vertical-align: middle;\n",
       "    }\n",
       "\n",
       "    .dataframe tbody tr th {\n",
       "        vertical-align: top;\n",
       "    }\n",
       "\n",
       "    .dataframe thead th {\n",
       "        text-align: right;\n",
       "    }\n",
       "</style>\n",
       "<table border=\"1\" class=\"dataframe\">\n",
       "  <thead>\n",
       "    <tr style=\"text-align: right;\">\n",
       "      <th></th>\n",
       "      <th>bad</th>\n",
       "      <th>good</th>\n",
       "    </tr>\n",
       "  </thead>\n",
       "  <tbody>\n",
       "    <tr>\n",
       "      <th>bad</th>\n",
       "      <td>135</td>\n",
       "      <td>122</td>\n",
       "    </tr>\n",
       "    <tr>\n",
       "      <th>good</th>\n",
       "      <td>58</td>\n",
       "      <td>535</td>\n",
       "    </tr>\n",
       "  </tbody>\n",
       "</table>\n",
       "</div>"
      ],
      "text/plain": [
       "      bad  good\n",
       "bad   135   122\n",
       "good   58   535"
      ]
     },
     "execution_count": 14,
     "metadata": {},
     "output_type": "execute_result"
    }
   ],
   "source": [
    "# Importing the required function\n",
    "from sklearn.metrics import confusion_matrix\n",
    "\n",
    "# Creating a confusion matrix on the training data\n",
    "train_conf_matrix = confusion_matrix(y_train,train_predictions)\n",
    "\n",
    "# Converting the train_conf_matrix into a DataFrame for better readability\n",
    "pd.DataFrame(train_conf_matrix,columns=model.classes_,index=model.classes_)"
   ]
  },
  {
   "cell_type": "code",
   "execution_count": 15,
   "metadata": {},
   "outputs": [
    {
     "data": {
      "text/html": [
       "<div>\n",
       "<style scoped>\n",
       "    .dataframe tbody tr th:only-of-type {\n",
       "        vertical-align: middle;\n",
       "    }\n",
       "\n",
       "    .dataframe tbody tr th {\n",
       "        vertical-align: top;\n",
       "    }\n",
       "\n",
       "    .dataframe thead th {\n",
       "        text-align: right;\n",
       "    }\n",
       "</style>\n",
       "<table border=\"1\" class=\"dataframe\">\n",
       "  <thead>\n",
       "    <tr style=\"text-align: right;\">\n",
       "      <th></th>\n",
       "      <th>bad</th>\n",
       "      <th>good</th>\n",
       "    </tr>\n",
       "  </thead>\n",
       "  <tbody>\n",
       "    <tr>\n",
       "      <th>bad</th>\n",
       "      <td>18</td>\n",
       "      <td>25</td>\n",
       "    </tr>\n",
       "    <tr>\n",
       "      <th>good</th>\n",
       "      <td>15</td>\n",
       "      <td>92</td>\n",
       "    </tr>\n",
       "  </tbody>\n",
       "</table>\n",
       "</div>"
      ],
      "text/plain": [
       "      bad  good\n",
       "bad    18    25\n",
       "good   15    92"
      ]
     },
     "execution_count": 15,
     "metadata": {},
     "output_type": "execute_result"
    }
   ],
   "source": [
    "#confusion matrix on the test data\n",
    "test_conf_matrix = confusion_matrix(y_test,test_predictions)\n",
    "pd.DataFrame(test_conf_matrix,columns=model.classes_,index=model.classes_)"
   ]
  },
  {
   "cell_type": "markdown",
   "metadata": {},
   "source": [
    "$\n",
    "\\begin{align}\n",
    "Accuracy = \\frac{No. of correct predictions}{No. of predictions made}\n",
    "\\end{align}\n",
    "$"
   ]
  },
  {
   "cell_type": "code",
   "execution_count": 16,
   "metadata": {},
   "outputs": [
    {
     "name": "stdout",
     "output_type": "stream",
     "text": [
      "Train accuracy =  0.788235294117647\n"
     ]
    }
   ],
   "source": [
    "# Calculating train accuracy calculated from confusion matrix\n",
    "train_correct_predictions = train_conf_matrix[0][0]+train_conf_matrix[1][1]\n",
    "train_total_predictions = train_conf_matrix.sum()\n",
    "train_accuracy = train_correct_predictions/train_total_predictions\n",
    "print(\"Train accuracy = \", train_accuracy)"
   ]
  },
  {
   "cell_type": "code",
   "execution_count": 17,
   "metadata": {},
   "outputs": [
    {
     "name": "stdout",
     "output_type": "stream",
     "text": [
      "0.7333333333333333\n"
     ]
    }
   ],
   "source": [
    "# Calculating test accuracy from confusion matrix\n",
    "test_correct_predictions = test_conf_matrix[0][0]+test_conf_matrix[1][1]\n",
    "total_predictions = test_conf_matrix.sum()\n",
    "test_accuracy = test_correct_predictions/total_predictions\n",
    "\n",
    "print(test_accuracy)"
   ]
  },
  {
   "cell_type": "markdown",
   "metadata": {},
   "source": [
    "#### Classification report\n",
    "* precision for class 'A' = (number of outcomes correctly predicted as class 'A' by the model) /  (total number of instances predicted as class 'A' by the model)\n",
    "* recall for class 'A' = (number of outcomes correctly predicted as class 'A' by the model) /  (total number of class 'A' instances present in the dataset)\n",
    "* f1-score for class 'A'- harmonic mean of precision and recall for class 'A'\n",
    "* support for class 'A'- number of instances classified as class 'A'"
   ]
  },
  {
   "cell_type": "code",
   "execution_count": 18,
   "metadata": {},
   "outputs": [
    {
     "name": "stdout",
     "output_type": "stream",
     "text": [
      "              precision    recall  f1-score   support\n",
      "\n",
      "         bad       0.55      0.42      0.47        43\n",
      "        good       0.79      0.86      0.82       107\n",
      "\n",
      "    accuracy                           0.73       150\n",
      "   macro avg       0.67      0.64      0.65       150\n",
      "weighted avg       0.72      0.73      0.72       150\n",
      "\n"
     ]
    }
   ],
   "source": [
    "# Importing the required function\n",
    "from sklearn.metrics import classification_report\n",
    "\n",
    "# Generating the report and printing the same\n",
    "print(classification_report(y_test,test_predictions))"
   ]
  },
  {
   "cell_type": "code",
   "execution_count": null,
   "metadata": {},
   "outputs": [],
   "source": []
  }
 ],
 "metadata": {
  "kernelspec": {
   "display_name": "Python 3",
   "language": "python",
   "name": "python3"
  },
  "language_info": {
   "codemirror_mode": {
    "name": "ipython",
    "version": 3
   },
   "file_extension": ".py",
   "mimetype": "text/x-python",
   "name": "python",
   "nbconvert_exporter": "python",
   "pygments_lexer": "ipython3",
   "version": "3.7.7"
  }
 },
 "nbformat": 4,
 "nbformat_minor": 2
}
