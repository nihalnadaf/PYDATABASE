{
 "cells": [
  {
   "cell_type": "markdown",
   "id": "8769938e",
   "metadata": {},
   "source": [
    "# PANDAS SERIES"
   ]
  },
  {
   "cell_type": "markdown",
   "id": "70474ffb",
   "metadata": {},
   "source": [
    "Series is one-dimensional labelled array capable of holding data of any type(int,string ,float,python objects,etc),The axis labels are collectively called index"
   ]
  },
  {
   "cell_type": "markdown",
   "id": "4b3257b0",
   "metadata": {},
   "source": [
    "Series is nothing but a column in a excelSheet\n",
    "#Syntax: pd.Series(data , index , dtype , copy)"
   ]
  },
  {
   "cell_type": "code",
   "execution_count": 22,
   "id": "23346bc0",
   "metadata": {},
   "outputs": [
    {
     "name": "stdout",
     "output_type": "stream",
     "text": [
      "0    1\n",
      "1    2\n",
      "2    3\n",
      "3    4\n",
      "4    5\n",
      "dtype: int64\n",
      "0    a\n",
      "1    b\n",
      "2    c\n",
      "3    d\n",
      "4    e\n",
      "dtype: object\n"
     ]
    }
   ],
   "source": [
    "import numpy as np\n",
    "import pandas as pd\n",
    "ser1 = pd.Series([1,2,3,4,5])\n",
    "print(ser1)\n",
    "ser2 = pd.Series(['a','b','c','d','e'])\n",
    "print(ser2)"
   ]
  },
  {
   "cell_type": "code",
   "execution_count": 23,
   "id": "78a326f7",
   "metadata": {},
   "outputs": [
    {
     "name": "stdout",
     "output_type": "stream",
     "text": [
      "0    1.0\n",
      "1    2.0\n",
      "2    3.0\n",
      "3    4.0\n",
      "4    5.0\n",
      "dtype: float64\n"
     ]
    }
   ],
   "source": [
    "import numpy as np\n",
    "import pandas as pd\n",
    "ser1 = pd.Series([1,2,3,4,5],dtype=\"float64\")\n",
    "print(ser1)\n"
   ]
  },
  {
   "cell_type": "code",
   "execution_count": 24,
   "id": "a197ff3f",
   "metadata": {},
   "outputs": [
    {
     "name": "stdout",
     "output_type": "stream",
     "text": [
      "a    1\n",
      "b    2\n",
      "c    3\n",
      "d    4\n",
      "e    5\n",
      "dtype: int64\n"
     ]
    }
   ],
   "source": [
    "import numpy as np\n",
    "import pandas as pd\n",
    "ser1 = pd.Series([1,2,3,4,5],index=[\"a\",\"b\",\"c\",\"d\",\"e\"])\n",
    "print(ser1)"
   ]
  },
  {
   "cell_type": "code",
   "execution_count": 25,
   "id": "b672d823",
   "metadata": {},
   "outputs": [
    {
     "name": "stdout",
     "output_type": "stream",
     "text": [
      "a    1\n",
      "b    2\n",
      "c    3\n",
      "d    4\n",
      "e    5\n",
      "dtype: int64\n"
     ]
    }
   ],
   "source": [
    "import numpy as np\n",
    "import pandas as pd\n",
    "i=pd.Index([\"a\",\"b\",\"c\",\"d\",\"e\"])\n",
    "ser1 = pd.Series([1,2,3,4,5],index=i)\n",
    "print(ser1)"
   ]
  },
  {
   "cell_type": "markdown",
   "id": "84ceee85",
   "metadata": {},
   "source": [
    "CREATING SERIES USING DICTIONARY"
   ]
  },
  {
   "cell_type": "code",
   "execution_count": 26,
   "id": "0626c6ed",
   "metadata": {},
   "outputs": [
    {
     "name": "stdout",
     "output_type": "stream",
     "text": [
      "Rohit      40\n",
      "KL         23\n",
      "Virat     100\n",
      "Panth      12\n",
      "Chahal      2\n",
      "dtype: int64\n"
     ]
    }
   ],
   "source": [
    "import numpy as np\n",
    "import pandas as pd\n",
    "ser1 = pd.Series({\"Rohit\":40,\"KL\":23,\"Virat\":100,\"Panth\":12,\"Chahal\":2})\n",
    "print(ser1)\n"
   ]
  },
  {
   "cell_type": "markdown",
   "id": "c35ca652",
   "metadata": {},
   "source": [
    "# DATAFRAMES"
   ]
  },
  {
   "cell_type": "markdown",
   "id": "cad81d3a",
   "metadata": {},
   "source": [
    "DATAFRAME IS A COLLECTION OF MULTIPLE SERIES"
   ]
  },
  {
   "cell_type": "markdown",
   "id": "6db37e3e",
   "metadata": {},
   "source": [
    "#pd.DataFrame(array_name , index , columns )"
   ]
  },
  {
   "cell_type": "code",
   "execution_count": 27,
   "id": "7cf32cd0",
   "metadata": {},
   "outputs": [
    {
     "name": "stdout",
     "output_type": "stream",
     "text": [
      "[[0 1 2]\n",
      " [3 4 5]\n",
      " [6 7 8]]\n",
      "   A  B  C\n",
      "a  0  1  2\n",
      "b  3  4  5\n",
      "c  6  7  8\n"
     ]
    }
   ],
   "source": [
    "import numpy as np\n",
    "import pandas as pd\n",
    "arr = np.arange(0,9).reshape(3,3)\n",
    "print(arr)      #Numpy Array\n",
    "df = pd.DataFrame(arr , index=['a','b','c'], columns=['A','B','C'])\n",
    "print(df)       #Pandas DataFrame"
   ]
  },
  {
   "cell_type": "code",
   "execution_count": 28,
   "id": "22886798",
   "metadata": {},
   "outputs": [
    {
     "name": "stdout",
     "output_type": "stream",
     "text": [
      "         OSA  PYTHON  JAVA  SE\n",
      "Abhinav   19      20    18  16\n",
      "Harshad   16      16    14  14\n",
      "Gururaj   20      12    13  15\n"
     ]
    }
   ],
   "source": [
    "#A single array stores marks of one student in every subject\n",
    "import numpy as np\n",
    "import pandas as pd\n",
    "df = pd.DataFrame([[19,20,18,16],[16,16,14,14],[20,12,13,15]], index=['Abhinav','Harshad','Gururaj'], columns=['OSA','PYTHON','JAVA','SE'])\n",
    "print(df)"
   ]
  },
  {
   "cell_type": "code",
   "execution_count": 29,
   "id": "2da9628b",
   "metadata": {},
   "outputs": [
    {
     "name": "stdout",
     "output_type": "stream",
     "text": [
      "   Osa  Python  Java  SE\n",
      "1   23      12    17  12\n",
      "2   20      20    20  10\n",
      "3   19      32    18  18\n",
      "4   25      24    15   3\n"
     ]
    }
   ],
   "source": [
    "#Here, Dictionary in Dataframe ,Single arrays stores marks of every student in one subject\n",
    "import numpy as np\n",
    "import pandas as pd\n",
    "df = pd.DataFrame({\"Osa\":[23,20,19,25],\"Python\":[12,20,32,24],\"Java\":[17,20,18,15],\"SE\":[12,10,18,3]}\n",
    "                 ,index=[1,2,3,4]\n",
    "                 )\n",
    "print(df)"
   ]
  },
  {
   "cell_type": "code",
   "execution_count": 30,
   "id": "26d97607",
   "metadata": {},
   "outputs": [
    {
     "ename": "ValueError",
     "evalue": "All arrays must be of the same length",
     "output_type": "error",
     "traceback": [
      "\u001b[1;31m---------------------------------------------------------------------------\u001b[0m",
      "\u001b[1;31mValueError\u001b[0m                                Traceback (most recent call last)",
      "Input \u001b[1;32mIn [30]\u001b[0m, in \u001b[0;36m<cell line: 4>\u001b[1;34m()\u001b[0m\n\u001b[0;32m      2\u001b[0m \u001b[38;5;28;01mimport\u001b[39;00m \u001b[38;5;21;01mpandas\u001b[39;00m \u001b[38;5;28;01mas\u001b[39;00m \u001b[38;5;21;01mpd\u001b[39;00m\n\u001b[0;32m      3\u001b[0m \u001b[38;5;66;03m#Error : All arrays must be of same length\u001b[39;00m\n\u001b[1;32m----> 4\u001b[0m df \u001b[38;5;241m=\u001b[39m \u001b[43mpd\u001b[49m\u001b[38;5;241;43m.\u001b[39;49m\u001b[43mDataFrame\u001b[49m\u001b[43m(\u001b[49m\u001b[43m{\u001b[49m\u001b[38;5;124;43m\"\u001b[39;49m\u001b[38;5;124;43mOsa\u001b[39;49m\u001b[38;5;124;43m\"\u001b[39;49m\u001b[43m:\u001b[49m\u001b[43m[\u001b[49m\u001b[38;5;241;43m23\u001b[39;49m\u001b[43m,\u001b[49m\u001b[38;5;241;43m20\u001b[39;49m\u001b[43m,\u001b[49m\u001b[38;5;241;43m19\u001b[39;49m\u001b[43m,\u001b[49m\u001b[38;5;241;43m25\u001b[39;49m\u001b[43m]\u001b[49m\u001b[43m,\u001b[49m\u001b[38;5;124;43m\"\u001b[39;49m\u001b[38;5;124;43mPython\u001b[39;49m\u001b[38;5;124;43m\"\u001b[39;49m\u001b[43m:\u001b[49m\u001b[43m[\u001b[49m\u001b[38;5;241;43m12\u001b[39;49m\u001b[43m,\u001b[49m\u001b[38;5;241;43m20\u001b[39;49m\u001b[43m,\u001b[49m\u001b[38;5;241;43m32\u001b[39;49m\u001b[43m]\u001b[49m\u001b[43m}\u001b[49m\u001b[43m)\u001b[49m\n\u001b[0;32m      5\u001b[0m \u001b[38;5;28mprint\u001b[39m(df)\n",
      "File \u001b[1;32m~\\anaconda3\\lib\\site-packages\\pandas\\core\\frame.py:636\u001b[0m, in \u001b[0;36mDataFrame.__init__\u001b[1;34m(self, data, index, columns, dtype, copy)\u001b[0m\n\u001b[0;32m    630\u001b[0m     mgr \u001b[38;5;241m=\u001b[39m \u001b[38;5;28mself\u001b[39m\u001b[38;5;241m.\u001b[39m_init_mgr(\n\u001b[0;32m    631\u001b[0m         data, axes\u001b[38;5;241m=\u001b[39m{\u001b[38;5;124m\"\u001b[39m\u001b[38;5;124mindex\u001b[39m\u001b[38;5;124m\"\u001b[39m: index, \u001b[38;5;124m\"\u001b[39m\u001b[38;5;124mcolumns\u001b[39m\u001b[38;5;124m\"\u001b[39m: columns}, dtype\u001b[38;5;241m=\u001b[39mdtype, copy\u001b[38;5;241m=\u001b[39mcopy\n\u001b[0;32m    632\u001b[0m     )\n\u001b[0;32m    634\u001b[0m \u001b[38;5;28;01melif\u001b[39;00m \u001b[38;5;28misinstance\u001b[39m(data, \u001b[38;5;28mdict\u001b[39m):\n\u001b[0;32m    635\u001b[0m     \u001b[38;5;66;03m# GH#38939 de facto copy defaults to False only in non-dict cases\u001b[39;00m\n\u001b[1;32m--> 636\u001b[0m     mgr \u001b[38;5;241m=\u001b[39m \u001b[43mdict_to_mgr\u001b[49m\u001b[43m(\u001b[49m\u001b[43mdata\u001b[49m\u001b[43m,\u001b[49m\u001b[43m \u001b[49m\u001b[43mindex\u001b[49m\u001b[43m,\u001b[49m\u001b[43m \u001b[49m\u001b[43mcolumns\u001b[49m\u001b[43m,\u001b[49m\u001b[43m \u001b[49m\u001b[43mdtype\u001b[49m\u001b[38;5;241;43m=\u001b[39;49m\u001b[43mdtype\u001b[49m\u001b[43m,\u001b[49m\u001b[43m \u001b[49m\u001b[43mcopy\u001b[49m\u001b[38;5;241;43m=\u001b[39;49m\u001b[43mcopy\u001b[49m\u001b[43m,\u001b[49m\u001b[43m \u001b[49m\u001b[43mtyp\u001b[49m\u001b[38;5;241;43m=\u001b[39;49m\u001b[43mmanager\u001b[49m\u001b[43m)\u001b[49m\n\u001b[0;32m    637\u001b[0m \u001b[38;5;28;01melif\u001b[39;00m \u001b[38;5;28misinstance\u001b[39m(data, ma\u001b[38;5;241m.\u001b[39mMaskedArray):\n\u001b[0;32m    638\u001b[0m     \u001b[38;5;28;01mimport\u001b[39;00m \u001b[38;5;21;01mnumpy\u001b[39;00m\u001b[38;5;21;01m.\u001b[39;00m\u001b[38;5;21;01mma\u001b[39;00m\u001b[38;5;21;01m.\u001b[39;00m\u001b[38;5;21;01mmrecords\u001b[39;00m \u001b[38;5;28;01mas\u001b[39;00m \u001b[38;5;21;01mmrecords\u001b[39;00m\n",
      "File \u001b[1;32m~\\anaconda3\\lib\\site-packages\\pandas\\core\\internals\\construction.py:502\u001b[0m, in \u001b[0;36mdict_to_mgr\u001b[1;34m(data, index, columns, dtype, typ, copy)\u001b[0m\n\u001b[0;32m    494\u001b[0m     arrays \u001b[38;5;241m=\u001b[39m [\n\u001b[0;32m    495\u001b[0m         x\n\u001b[0;32m    496\u001b[0m         \u001b[38;5;28;01mif\u001b[39;00m \u001b[38;5;129;01mnot\u001b[39;00m \u001b[38;5;28mhasattr\u001b[39m(x, \u001b[38;5;124m\"\u001b[39m\u001b[38;5;124mdtype\u001b[39m\u001b[38;5;124m\"\u001b[39m) \u001b[38;5;129;01mor\u001b[39;00m \u001b[38;5;129;01mnot\u001b[39;00m \u001b[38;5;28misinstance\u001b[39m(x\u001b[38;5;241m.\u001b[39mdtype, ExtensionDtype)\n\u001b[0;32m    497\u001b[0m         \u001b[38;5;28;01melse\u001b[39;00m x\u001b[38;5;241m.\u001b[39mcopy()\n\u001b[0;32m    498\u001b[0m         \u001b[38;5;28;01mfor\u001b[39;00m x \u001b[38;5;129;01min\u001b[39;00m arrays\n\u001b[0;32m    499\u001b[0m     ]\n\u001b[0;32m    500\u001b[0m     \u001b[38;5;66;03m# TODO: can we get rid of the dt64tz special case above?\u001b[39;00m\n\u001b[1;32m--> 502\u001b[0m \u001b[38;5;28;01mreturn\u001b[39;00m \u001b[43marrays_to_mgr\u001b[49m\u001b[43m(\u001b[49m\u001b[43marrays\u001b[49m\u001b[43m,\u001b[49m\u001b[43m \u001b[49m\u001b[43mcolumns\u001b[49m\u001b[43m,\u001b[49m\u001b[43m \u001b[49m\u001b[43mindex\u001b[49m\u001b[43m,\u001b[49m\u001b[43m \u001b[49m\u001b[43mdtype\u001b[49m\u001b[38;5;241;43m=\u001b[39;49m\u001b[43mdtype\u001b[49m\u001b[43m,\u001b[49m\u001b[43m \u001b[49m\u001b[43mtyp\u001b[49m\u001b[38;5;241;43m=\u001b[39;49m\u001b[43mtyp\u001b[49m\u001b[43m,\u001b[49m\u001b[43m \u001b[49m\u001b[43mconsolidate\u001b[49m\u001b[38;5;241;43m=\u001b[39;49m\u001b[43mcopy\u001b[49m\u001b[43m)\u001b[49m\n",
      "File \u001b[1;32m~\\anaconda3\\lib\\site-packages\\pandas\\core\\internals\\construction.py:120\u001b[0m, in \u001b[0;36marrays_to_mgr\u001b[1;34m(arrays, columns, index, dtype, verify_integrity, typ, consolidate)\u001b[0m\n\u001b[0;32m    117\u001b[0m \u001b[38;5;28;01mif\u001b[39;00m verify_integrity:\n\u001b[0;32m    118\u001b[0m     \u001b[38;5;66;03m# figure out the index, if necessary\u001b[39;00m\n\u001b[0;32m    119\u001b[0m     \u001b[38;5;28;01mif\u001b[39;00m index \u001b[38;5;129;01mis\u001b[39;00m \u001b[38;5;28;01mNone\u001b[39;00m:\n\u001b[1;32m--> 120\u001b[0m         index \u001b[38;5;241m=\u001b[39m \u001b[43m_extract_index\u001b[49m\u001b[43m(\u001b[49m\u001b[43marrays\u001b[49m\u001b[43m)\u001b[49m\n\u001b[0;32m    121\u001b[0m     \u001b[38;5;28;01melse\u001b[39;00m:\n\u001b[0;32m    122\u001b[0m         index \u001b[38;5;241m=\u001b[39m ensure_index(index)\n",
      "File \u001b[1;32m~\\anaconda3\\lib\\site-packages\\pandas\\core\\internals\\construction.py:674\u001b[0m, in \u001b[0;36m_extract_index\u001b[1;34m(data)\u001b[0m\n\u001b[0;32m    672\u001b[0m lengths \u001b[38;5;241m=\u001b[39m \u001b[38;5;28mlist\u001b[39m(\u001b[38;5;28mset\u001b[39m(raw_lengths))\n\u001b[0;32m    673\u001b[0m \u001b[38;5;28;01mif\u001b[39;00m \u001b[38;5;28mlen\u001b[39m(lengths) \u001b[38;5;241m>\u001b[39m \u001b[38;5;241m1\u001b[39m:\n\u001b[1;32m--> 674\u001b[0m     \u001b[38;5;28;01mraise\u001b[39;00m \u001b[38;5;167;01mValueError\u001b[39;00m(\u001b[38;5;124m\"\u001b[39m\u001b[38;5;124mAll arrays must be of the same length\u001b[39m\u001b[38;5;124m\"\u001b[39m)\n\u001b[0;32m    676\u001b[0m \u001b[38;5;28;01mif\u001b[39;00m have_dicts:\n\u001b[0;32m    677\u001b[0m     \u001b[38;5;28;01mraise\u001b[39;00m \u001b[38;5;167;01mValueError\u001b[39;00m(\n\u001b[0;32m    678\u001b[0m         \u001b[38;5;124m\"\u001b[39m\u001b[38;5;124mMixing dicts with non-Series may lead to ambiguous ordering.\u001b[39m\u001b[38;5;124m\"\u001b[39m\n\u001b[0;32m    679\u001b[0m     )\n",
      "\u001b[1;31mValueError\u001b[0m: All arrays must be of the same length"
     ]
    }
   ],
   "source": [
    "import numpy as np\n",
    "import pandas as pd\n",
    "#Error : All arrays must be of same length\n",
    "df = pd.DataFrame({\"Osa\":[23,20,19,25],\"Python\":[12,20,32]})\n",
    "print(df)\n"
   ]
  },
  {
   "cell_type": "code",
   "execution_count": null,
   "id": "6d038273",
   "metadata": {},
   "outputs": [],
   "source": [
    "import pandas as pd\n",
    "ser1=pd.Series([22,10,13]) #Take index in Series\n",
    "ser2=pd.Series([17,17,18,16])\n",
    "df = pd.DataFrame({\"OSA\":ser1,\"Python\":ser2})#Dont take index in dictionary dataframe\n",
    "print(df)"
   ]
  },
  {
   "cell_type": "markdown",
   "id": "debeca24",
   "metadata": {},
   "source": [
    "# CREATE DATAFRAME CONTAINING INFORMATION ABOUT CITIES"
   ]
  },
  {
   "cell_type": "markdown",
   "id": "8eb1e221",
   "metadata": {},
   "source": [
    "Possibilities of Creating Dataframe through Multiple series"
   ]
  },
  {
   "cell_type": "markdown",
   "id": "5a358e41",
   "metadata": {},
   "source": [
    "1.Normal Series"
   ]
  },
  {
   "cell_type": "markdown",
   "id": "a0031efe",
   "metadata": {},
   "source": [
    "2.Transpose Series"
   ]
  },
  {
   "cell_type": "markdown",
   "id": "e76705b2",
   "metadata": {},
   "source": [
    "3.Dictionary Series(key == Heading , values == series)(Dont need to give name in series)"
   ]
  },
  {
   "cell_type": "markdown",
   "id": "f9cab8a1",
   "metadata": {},
   "source": [
    "4.2-d Array (Here,a single array consists of pop and cap of one state)"
   ]
  },
  {
   "cell_type": "code",
   "execution_count": null,
   "id": "3cfbd9e5",
   "metadata": {},
   "outputs": [],
   "source": [
    "import numpy as np\n",
    "import pandas as pd\n",
    "i = pd.Index([\"Karnataka\",\"Maharashtra\",\"Gujarat\"])\n",
    "#print(i)\n",
    "pop=pd.Series(['7.1','12.4','8.9'],index=i,name=\"Population\")\n",
    "#print(pop)\n",
    "cap=pd.Series([\"Bangalore\",\"Mumbai\",\"Gandhinagar\"],index=i,name=\"Capital\")\n",
    "#print(cap)\n",
    "#pin = pd.Series([\"586 101\",\"392 479\",\"123 456\"],index = i , name = \"Pin Code\")\n",
    "#df = pd.DataFrame([pop,cap])\n",
    "#df = pd.DataFrame([pop,cap,pin]).T\n",
    "df = pd.DataFrame([[\"7.1\",\"Bangalore\"],[\"12.4\",\"Mumbai\"],[\"8.9\",\"Gandinagar\"]],index=i,columns=[\"Population\",\"Capital\"])\n",
    "#df =pd.DataFrame({\"Population\":pop,\"Capital\":cap,\"PinCode\":pin})\n",
    "print(df)"
   ]
  },
  {
   "cell_type": "markdown",
   "id": "1663ed75",
   "metadata": {},
   "source": [
    "# How to Add new data to a series"
   ]
  },
  {
   "cell_type": "code",
   "execution_count": null,
   "id": "9f309256",
   "metadata": {},
   "outputs": [],
   "source": [
    "import numpy as np\n",
    "import pandas as pd\n",
    "pop=pd.Series(['7.1','12.4','8.9'],index=i,name=\"Population\")\n",
    "pop.append(pd.Series({\"TamilNadu\":9.8}))\n",
    "#print(pop)"
   ]
  },
  {
   "cell_type": "markdown",
   "id": "3aba339a",
   "metadata": {},
   "source": [
    "METHOD 1"
   ]
  },
  {
   "cell_type": "code",
   "execution_count": null,
   "id": "dd686f59",
   "metadata": {},
   "outputs": [],
   "source": [
    "import numpy as np\n",
    "import pandas as pd\n",
    "df = pd.DataFrame([[\"7.1\",\"Bangalore\"],[\"12.4\",\"Mumbai\"],[\"8.9\",\"Gandinagar\"]],index=i,columns=[\"Population\",\"Capital\"])#DataFrame created in one line\n",
    "#print(df)\n",
    "print(df.append(pd.DataFrame([[\"5.5\",\"Chennai\"],[\"14.2\",\"Hyderabad\"]],index=[\"Tamil Nadu\",\"Andhra Pradesh\"],columns=[\"Population\",\"Capital\"])))"
   ]
  },
  {
   "cell_type": "markdown",
   "id": "d5cfa283",
   "metadata": {},
   "source": [
    "METHOD 2"
   ]
  },
  {
   "cell_type": "code",
   "execution_count": null,
   "id": "104c315b",
   "metadata": {},
   "outputs": [],
   "source": [
    "import numpy as np\n",
    "import pandas as pd\n",
    "i = pd.Index([\"Karnataka\",\"Maharashtra\",\"Gujarat\"])\n",
    "pop=pd.Series(['7.1','12.4','8.9'],index=i,name=\"Population\")\n",
    "cap=pd.Series([\"Bangalore\",\"Mumbai\",\"Gandhinagar\"],index=i,name=\"Capital\")\n",
    "df = pd.DataFrame({\"Population\":pop,\"Capital\":cap})\n",
    "#print(df)\n",
    "print(df.append(pd.DataFrame({\"Population\":pd.Series([5.5,14.2],index=[\"Tamil Nadu\",\"Andhra Pradesh\"]),\n",
    "    \"Capital\":pd.Series({\"Tamil Nadu\":\"Chennai\",\"Andhra Pradesh\":\"Hyderabad\"})\n",
    "    })\n",
    ")\n",
    ")"
   ]
  },
  {
   "cell_type": "markdown",
   "id": "ec8e4278",
   "metadata": {},
   "source": [
    "# CONCAT NEW COLUMN TO DATAFRAME"
   ]
  },
  {
   "cell_type": "code",
   "execution_count": null,
   "id": "77e29258",
   "metadata": {},
   "outputs": [],
   "source": [
    "import numpy as np\n",
    "import pandas as pd\n",
    "i = pd.Index([\"Karnataka\",\"Maharashtra\",\"Gujarat\"])\n",
    "pop = pd.Series(['7.1','12.4','8.9'],index=i,name=\"Population\")\n",
    "cap= pd.Series([\"Bangalore\",\"Mumbai\",\"Gandhinagar\"], index=i, name=\"Capital\")\n",
    "df = pd.DataFrame({\"Population\":pop,\"Capital\":cap})\n",
    "#print(df)\n",
    "df1 = pd.concat(\n",
    "    [df,pd.DataFrame({\n",
    "                      \"Area\":pd.Series(['2.1','3.1','5.5'],index=i),\n",
    "                      \"CM\" : pd.Series(['Bomai','Shinde','xyz'],index=i)\n",
    "                  })\n",
    "    ],axis=1\n",
    "     )\n",
    "#df1.to_csv(\"cities_csv\")\n",
    "df1 "
   ]
  },
  {
   "cell_type": "markdown",
   "id": "99b392ea",
   "metadata": {},
   "source": [
    "# PANDAS SUBSETTING"
   ]
  },
  {
   "cell_type": "code",
   "execution_count": 31,
   "id": "f3ca3144",
   "metadata": {},
   "outputs": [],
   "source": [
    "import numpy as np\n",
    "import pandas as pd\n",
    "from pandas import Series,DataFrame"
   ]
  },
  {
   "cell_type": "code",
   "execution_count": 32,
   "id": "cedd5ef1",
   "metadata": {},
   "outputs": [
    {
     "name": "stdout",
     "output_type": "stream",
     "text": [
      "Alpha      0\n",
      "Beta       1\n",
      "Gamma      2\n",
      "Delta      3\n",
      "Elipson    4\n",
      "dtype: int32\n"
     ]
    }
   ],
   "source": [
    "srs = Series(np.arange(5),index=[\"Alpha\",\"Beta\",\"Gamma\",\"Delta\",\"Elipson\"])\n",
    "print(srs)"
   ]
  },
  {
   "cell_type": "code",
   "execution_count": 33,
   "id": "b940525d",
   "metadata": {},
   "outputs": [
    {
     "data": {
      "text/plain": [
       "Alpha    0\n",
       "Beta     1\n",
       "dtype: int32"
      ]
     },
     "execution_count": 33,
     "metadata": {},
     "output_type": "execute_result"
    }
   ],
   "source": [
    "#In,int excluding occurs\n",
    "srs[:2]"
   ]
  },
  {
   "cell_type": "code",
   "execution_count": 34,
   "id": "15d71d15",
   "metadata": {},
   "outputs": [
    {
     "data": {
      "text/plain": [
       "Beta     1\n",
       "Gamma    2\n",
       "Delta    3\n",
       "dtype: int32"
      ]
     },
     "execution_count": 34,
     "metadata": {},
     "output_type": "execute_result"
    }
   ],
   "source": [
    "srs[[\"Beta\",\"Gamma\",\"Delta\"]]"
   ]
  },
  {
   "cell_type": "code",
   "execution_count": null,
   "id": "2e9ca33f",
   "metadata": {},
   "outputs": [],
   "source": [
    "#In,Series index nothing is excluded\n",
    "srs[\"Beta\":\"Delta\"]"
   ]
  },
  {
   "cell_type": "code",
   "execution_count": null,
   "id": "ae0e3873",
   "metadata": {},
   "outputs": [],
   "source": [
    "#print(srs)\n",
    "srs[srs>3]"
   ]
  },
  {
   "cell_type": "code",
   "execution_count": 35,
   "id": "590a3691",
   "metadata": {},
   "outputs": [
    {
     "data": {
      "text/plain": [
       "Alpha      False\n",
       "Beta       False\n",
       "Gamma      False\n",
       "Delta      False\n",
       "Elipson     True\n",
       "dtype: bool"
      ]
     },
     "execution_count": 35,
     "metadata": {},
     "output_type": "execute_result"
    }
   ],
   "source": [
    "srs>3"
   ]
  },
  {
   "cell_type": "code",
   "execution_count": 37,
   "id": "80725fc8",
   "metadata": {},
   "outputs": [
    {
     "name": "stdout",
     "output_type": "stream",
     "text": [
      "3     zero\n",
      "2      one\n",
      "4      two\n",
      "0    three\n",
      "1     four\n",
      "dtype: object\n"
     ]
    }
   ],
   "source": [
    "srs2 = Series([\"zero\",\"one\",\"two\",\"three\",\"four\"],index=[3,2,4,0,1])\n",
    "print(srs2)"
   ]
  },
  {
   "cell_type": "code",
   "execution_count": 38,
   "id": "27b17ddb",
   "metadata": {},
   "outputs": [
    {
     "data": {
      "text/plain": [
       "4      two\n",
       "0    three\n",
       "dtype: object"
      ]
     },
     "execution_count": 38,
     "metadata": {},
     "output_type": "execute_result"
    }
   ],
   "source": [
    "srs2[2:4]  #Ambiguity,it uses default indexes"
   ]
  },
  {
   "cell_type": "code",
   "execution_count": null,
   "id": "58973278",
   "metadata": {},
   "outputs": [],
   "source": [
    "srs2.iloc[1:4]   #Uses default Indexing"
   ]
  },
  {
   "cell_type": "code",
   "execution_count": null,
   "id": "9c254db7",
   "metadata": {},
   "outputs": [],
   "source": [
    "srs2.loc[4:1]    #uses Series indexing"
   ]
  },
  {
   "cell_type": "code",
   "execution_count": null,
   "id": "0f1c48a0",
   "metadata": {},
   "outputs": [],
   "source": [
    "df = DataFrame(np.arange(21).reshape(7,3),columns=[\"AAA\",\"BBB\",\"CCC\"],index=[\"alpha\",\"beta\",\"gamma\",\"delta\",\"elipson\",\"zeta\",\"eta\"])\n",
    "df"
   ]
  },
  {
   "cell_type": "code",
   "execution_count": null,
   "id": "85742dad",
   "metadata": {},
   "outputs": [],
   "source": [
    "df.AAA"
   ]
  },
  {
   "cell_type": "code",
   "execution_count": null,
   "id": "1cbfc1a8",
   "metadata": {},
   "outputs": [],
   "source": [
    "df['AAA']"
   ]
  },
  {
   "cell_type": "code",
   "execution_count": null,
   "id": "99c1a043",
   "metadata": {},
   "outputs": [],
   "source": [
    "df[['BBB','CCC']]"
   ]
  },
  {
   "cell_type": "code",
   "execution_count": null,
   "id": "d7772a9c",
   "metadata": {},
   "outputs": [],
   "source": [
    "df"
   ]
  },
  {
   "cell_type": "code",
   "execution_count": null,
   "id": "dfe804ea",
   "metadata": {},
   "outputs": [],
   "source": [
    "df.iloc[1:3,1:2]  #Syntax :  df.iloc[ rows, columns]"
   ]
  },
  {
   "cell_type": "code",
   "execution_count": null,
   "id": "d10937db",
   "metadata": {},
   "outputs": [],
   "source": [
    "df.loc['beta':'delta','BBB':'CCC']"
   ]
  },
  {
   "cell_type": "code",
   "execution_count": null,
   "id": "a0617d77",
   "metadata": {},
   "outputs": [],
   "source": [
    "df.iloc[:,1:3]"
   ]
  },
  {
   "cell_type": "code",
   "execution_count": null,
   "id": "6072f155",
   "metadata": {},
   "outputs": [],
   "source": [
    "df.iloc[:, 1:3].loc[['alpha', 'gamma', 'zeta']]"
   ]
  },
  {
   "cell_type": "code",
   "execution_count": null,
   "id": "946bce12",
   "metadata": {},
   "outputs": [],
   "source": [
    "df2 = df.iloc[:, 1:3].loc[['alpha', 'gamma', 'zeta']].copy()\n",
    "df2"
   ]
  },
  {
   "cell_type": "code",
   "execution_count": null,
   "id": "33a4d8ae",
   "metadata": {},
   "outputs": [],
   "source": [
    "df2['CCC'] = Series({'alpha':11, 'gamma':18, 'zeta':5})\n",
    "df2"
   ]
  },
  {
   "cell_type": "code",
   "execution_count": null,
   "id": "4949999e",
   "metadata": {},
   "outputs": [],
   "source": [
    "df2.iloc[1, 1] = 2\n",
    "df2"
   ]
  },
  {
   "cell_type": "code",
   "execution_count": null,
   "id": "c907c59b",
   "metadata": {},
   "outputs": [],
   "source": [
    "df2.iloc[:, 1] = 0\n",
    "df2"
   ]
  },
  {
   "cell_type": "code",
   "execution_count": null,
   "id": "60235e20",
   "metadata": {},
   "outputs": [],
   "source": [
    "              "
   ]
  }
 ],
 "metadata": {
  "kernelspec": {
   "display_name": "Python 3 (ipykernel)",
   "language": "python",
   "name": "python3"
  },
  "language_info": {
   "codemirror_mode": {
    "name": "ipython",
    "version": 3
   },
   "file_extension": ".py",
   "mimetype": "text/x-python",
   "name": "python",
   "nbconvert_exporter": "python",
   "pygments_lexer": "ipython3",
   "version": "3.9.12"
  }
 },
 "nbformat": 4,
 "nbformat_minor": 5
}
