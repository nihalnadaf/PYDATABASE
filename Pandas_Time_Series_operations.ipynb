{
 "cells": [
  {
   "cell_type": "markdown",
   "id": "35f2a205",
   "metadata": {},
   "source": [
    "Time Series include date and time of every records and can fetch the records of dataframe.Finding data in range of Date and time by using Pandas moduled named Time Series"
   ]
  },
  {
   "cell_type": "code",
   "execution_count": 2,
   "id": "60bdf3cc",
   "metadata": {},
   "outputs": [
    {
     "name": "stdout",
     "output_type": "stream",
     "text": [
      "DatetimeIndex(['2022-10-01 00:00:00', '2022-10-01 00:01:00',\n",
      "               '2022-10-01 00:02:00', '2022-10-01 00:03:00',\n",
      "               '2022-10-01 00:04:00', '2022-10-01 00:05:00',\n",
      "               '2022-10-01 00:06:00', '2022-10-01 00:07:00',\n",
      "               '2022-10-01 00:08:00', '2022-10-01 00:09:00',\n",
      "               ...\n",
      "               '2022-10-31 23:51:00', '2022-10-31 23:52:00',\n",
      "               '2022-10-31 23:53:00', '2022-10-31 23:54:00',\n",
      "               '2022-10-31 23:55:00', '2022-10-31 23:56:00',\n",
      "               '2022-10-31 23:57:00', '2022-10-31 23:58:00',\n",
      "               '2022-10-31 23:59:00', '2022-11-01 00:00:00'],\n",
      "              dtype='datetime64[ns]', length=44641, freq='T')\n"
     ]
    }
   ],
   "source": [
    "import numpy as np\n",
    "import pandas as pd\n",
    "from datetime import datetime\n",
    "#Return a fixed frequency DatetimeIndex.\n",
    "#Syntax:  date_range(start , end , freq)\n",
    "time = pd.date_range(start='10/1/2022',end='11/1/2022',freq='min')\n",
    "print(time)"
   ]
  },
  {
   "cell_type": "code",
   "execution_count": 3,
   "id": "091dc686",
   "metadata": {},
   "outputs": [
    {
     "name": "stdout",
     "output_type": "stream",
     "text": [
      "DatetimeIndex(['2022-10-01 00:00:00', '2022-10-01 00:01:00',\n",
      "               '2022-10-01 00:02:00', '2022-10-01 00:03:00',\n",
      "               '2022-10-01 00:04:00', '2022-10-01 00:05:00',\n",
      "               '2022-10-01 00:06:00', '2022-10-01 00:07:00',\n",
      "               '2022-10-01 00:08:00', '2022-10-01 00:09:00',\n",
      "               ...\n",
      "               '2022-10-01 23:51:00', '2022-10-01 23:52:00',\n",
      "               '2022-10-01 23:53:00', '2022-10-01 23:54:00',\n",
      "               '2022-10-01 23:55:00', '2022-10-01 23:56:00',\n",
      "               '2022-10-01 23:57:00', '2022-10-01 23:58:00',\n",
      "               '2022-10-01 23:59:00', '2022-10-02 00:00:00'],\n",
      "              dtype='datetime64[ns]', length=1441, freq='T')\n"
     ]
    }
   ],
   "source": [
    "#Time range of 1 Day\n",
    "import numpy as np\n",
    "import pandas as pd\n",
    "from datetime import datetime\n",
    "t1 = pd.date_range(start='10/1/2022',end='10/2/2022',freq='min')\n",
    "print(t1)"
   ]
  },
  {
   "cell_type": "code",
   "execution_count": 5,
   "id": "c6c8d987",
   "metadata": {},
   "outputs": [
    {
     "name": "stdout",
     "output_type": "stream",
     "text": [
      "                 DateTime\n",
      "0     2022-10-01 00:00:00\n",
      "1     2022-10-01 00:01:00\n",
      "2     2022-10-01 00:02:00\n",
      "3     2022-10-01 00:03:00\n",
      "4     2022-10-01 00:04:00\n",
      "...                   ...\n",
      "44636 2022-10-31 23:56:00\n",
      "44637 2022-10-31 23:57:00\n",
      "44638 2022-10-31 23:58:00\n",
      "44639 2022-10-31 23:59:00\n",
      "44640 2022-11-01 00:00:00\n",
      "\n",
      "[44641 rows x 1 columns]\n"
     ]
    }
   ],
   "source": [
    "import numpy as np\n",
    "import pandas as pd\n",
    "from datetime import datetime\n",
    "time = pd.date_range(start='10/1/2022',end='11/1/2022',freq='min')\n",
    "df = pd.DataFrame(time , columns=[\"DateTime\"])\n",
    "print(df)"
   ]
  },
  {
   "cell_type": "code",
   "execution_count": 15,
   "id": "41359fd1",
   "metadata": {},
   "outputs": [
    {
     "name": "stdout",
     "output_type": "stream",
     "text": [
      "                 DateTime  Data\n",
      "0     2022-10-01 00:00:00    71\n",
      "1     2022-10-01 00:01:00    24\n",
      "2     2022-10-01 00:02:00    14\n",
      "3     2022-10-01 00:03:00    44\n",
      "4     2022-10-01 00:04:00    23\n",
      "...                   ...   ...\n",
      "44636 2022-10-31 23:56:00    95\n",
      "44637 2022-10-31 23:57:00    90\n",
      "44638 2022-10-31 23:58:00    45\n",
      "44639 2022-10-31 23:59:00    57\n",
      "44640 2022-11-01 00:00:00     8\n",
      "\n",
      "[44641 rows x 2 columns]\n"
     ]
    },
    {
     "data": {
      "text/html": [
       "<div>\n",
       "<style scoped>\n",
       "    .dataframe tbody tr th:only-of-type {\n",
       "        vertical-align: middle;\n",
       "    }\n",
       "\n",
       "    .dataframe tbody tr th {\n",
       "        vertical-align: top;\n",
       "    }\n",
       "\n",
       "    .dataframe thead th {\n",
       "        text-align: right;\n",
       "    }\n",
       "</style>\n",
       "<table border=\"1\" class=\"dataframe\">\n",
       "  <thead>\n",
       "    <tr style=\"text-align: right;\">\n",
       "      <th></th>\n",
       "      <th>DateTime</th>\n",
       "      <th>Data</th>\n",
       "    </tr>\n",
       "  </thead>\n",
       "  <tbody>\n",
       "    <tr>\n",
       "      <th>0</th>\n",
       "      <td>2022-10-01 00:00:00</td>\n",
       "      <td>71</td>\n",
       "    </tr>\n",
       "    <tr>\n",
       "      <th>1</th>\n",
       "      <td>2022-10-01 00:01:00</td>\n",
       "      <td>24</td>\n",
       "    </tr>\n",
       "    <tr>\n",
       "      <th>2</th>\n",
       "      <td>2022-10-01 00:02:00</td>\n",
       "      <td>14</td>\n",
       "    </tr>\n",
       "    <tr>\n",
       "      <th>3</th>\n",
       "      <td>2022-10-01 00:03:00</td>\n",
       "      <td>44</td>\n",
       "    </tr>\n",
       "    <tr>\n",
       "      <th>4</th>\n",
       "      <td>2022-10-01 00:04:00</td>\n",
       "      <td>23</td>\n",
       "    </tr>\n",
       "  </tbody>\n",
       "</table>\n",
       "</div>"
      ],
      "text/plain": [
       "             DateTime  Data\n",
       "0 2022-10-01 00:00:00    71\n",
       "1 2022-10-01 00:01:00    24\n",
       "2 2022-10-01 00:02:00    14\n",
       "3 2022-10-01 00:03:00    44\n",
       "4 2022-10-01 00:04:00    23"
      ]
     },
     "execution_count": 15,
     "metadata": {},
     "output_type": "execute_result"
    }
   ],
   "source": [
    "import numpy as np\n",
    "import pandas as pd\n",
    "from datetime import datetime\n",
    "time = pd.date_range(start='10/1/2022',end='11/1/2022',freq='min')#H,S\n",
    "df = pd.DataFrame(time , columns=[\"DateTime\"])\n",
    "\n",
    "#Here,We are adding data column of size 44641 with random number between 0-99\n",
    "df['Data']=np.random.randint(0,100,size=(len(time)))\n",
    "print(df)\n",
    "df.head()\n",
    "#df.head(20)"
   ]
  },
  {
   "cell_type": "code",
   "execution_count": null,
   "id": "be419b94",
   "metadata": {},
   "outputs": [],
   "source": []
  }
 ],
 "metadata": {
  "kernelspec": {
   "display_name": "Python 3 (ipykernel)",
   "language": "python",
   "name": "python3"
  },
  "language_info": {
   "codemirror_mode": {
    "name": "ipython",
    "version": 3
   },
   "file_extension": ".py",
   "mimetype": "text/x-python",
   "name": "python",
   "nbconvert_exporter": "python",
   "pygments_lexer": "ipython3",
   "version": "3.9.12"
  }
 },
 "nbformat": 4,
 "nbformat_minor": 5
}
