{
 "cells": [
  {
   "cell_type": "markdown",
   "id": "4304a95d",
   "metadata": {},
   "source": [
    "###### 1.\tRepresent the above data in a 10x2 array. In each row, the first element should contain day number and second element should contain steps walked.\n"
   ]
  },
  {
   "cell_type": "code",
   "execution_count": 1,
   "id": "0100e9a1",
   "metadata": {},
   "outputs": [
    {
     "data": {
      "text/plain": [
       "array([[   1, 6012],\n",
       "       [   2, 7079],\n",
       "       [   3, 6886],\n",
       "       [   4, 7230],\n",
       "       [   5, 4598],\n",
       "       [   6, 5564],\n",
       "       [   7, 6971],\n",
       "       [   8, 7763],\n",
       "       [   9, 8032],\n",
       "       [  10, 9569]])"
      ]
     },
     "execution_count": 1,
     "metadata": {},
     "output_type": "execute_result"
    }
   ],
   "source": [
    "import numpy as np\n",
    "import pandas as pd\n",
    "arr = np.array([[1,6012],[2,7079],[3,6886],[4,7230],[5,4598],[6,5564],[7,6971],[8,7763],[9,8032],[10,9569]])\n",
    "arr"
   ]
  },
  {
   "cell_type": "markdown",
   "id": "96670ebb",
   "metadata": {},
   "source": [
    "###### 2.  Lee notices that the tracker’s battery dies every day at 7 pm. Lee discovers that on an average, he walks 2000 steps every day after 7 pm. Perform an appropriate operation on your array to add 2000 steps to all the observations.\n"
   ]
  },
  {
   "cell_type": "code",
   "execution_count": 3,
   "id": "ba68b1be",
   "metadata": {},
   "outputs": [
    {
     "data": {
      "text/plain": [
       "array([[    1,  8012],\n",
       "       [    2,  9079],\n",
       "       [    3,  8886],\n",
       "       [    4,  9230],\n",
       "       [    5,  6598],\n",
       "       [    6,  7564],\n",
       "       [    7,  8971],\n",
       "       [    8,  9763],\n",
       "       [    9, 10032],\n",
       "       [   10, 11569]])"
      ]
     },
     "execution_count": 3,
     "metadata": {},
     "output_type": "execute_result"
    }
   ],
   "source": [
    "arr = np.array([[1,6012],[2,7079],[3,6886],[4,7230],[5,4598],[6,5564],[7,6971],[8,7763],[9,8032],[10,9569]])\n",
    "new_arr = arr +  [0,2000]\n",
    "new_arr"
   ]
  },
  {
   "cell_type": "markdown",
   "id": "f10ff6df",
   "metadata": {},
   "source": [
    "###### 3.  Write a program that returns the steps walked if the steps walked are more than 9000.\n"
   ]
  },
  {
   "cell_type": "code",
   "execution_count": 21,
   "id": "a63d2e30",
   "metadata": {},
   "outputs": [
    {
     "name": "stdout",
     "output_type": "stream",
     "text": [
      "[ 9079  9230  9763 10032 11569]\n"
     ]
    }
   ],
   "source": [
    "# steps_walked = new_arr[: , 1]\n",
    "# print(steps_walked)\n",
    "# index = np.where(steps_walked > 9000)\n",
    "# # index\n",
    "# steps_walked[index]\n",
    "\n",
    "\n",
    "arr9000 = new_arr > 9000\n",
    "arr9000\n",
    "print(new_arr[arr9000])\n",
    "\n",
    "steps_walked = new_arr[: , 1]"
   ]
  },
  {
   "cell_type": "markdown",
   "id": "fb003b61",
   "metadata": {},
   "source": [
    "###### 4. Print an array containing steps walked in sorted order.\n"
   ]
  },
  {
   "cell_type": "code",
   "execution_count": 22,
   "id": "5833273d",
   "metadata": {},
   "outputs": [
    {
     "name": "stdout",
     "output_type": "stream",
     "text": [
      "[ 6598  7564  8012  8886  8971  9079  9230  9763 10032 11569]\n"
     ]
    }
   ],
   "source": [
    "print(np.sort(steps_walked))"
   ]
  },
  {
   "cell_type": "code",
   "execution_count": null,
   "id": "6acade62",
   "metadata": {},
   "outputs": [],
   "source": []
  }
 ],
 "metadata": {
  "kernelspec": {
   "display_name": "Python 3 (ipykernel)",
   "language": "python",
   "name": "python3"
  },
  "language_info": {
   "codemirror_mode": {
    "name": "ipython",
    "version": 3
   },
   "file_extension": ".py",
   "mimetype": "text/x-python",
   "name": "python",
   "nbconvert_exporter": "python",
   "pygments_lexer": "ipython3",
   "version": "3.9.12"
  }
 },
 "nbformat": 4,
 "nbformat_minor": 5
}
