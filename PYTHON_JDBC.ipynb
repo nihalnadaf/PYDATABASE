{
 "cells": [
  {
   "cell_type": "markdown",
   "id": "a95728e7",
   "metadata": {},
   "source": [
    "# IMPORT MYSQL CONNECTOR"
   ]
  },
  {
   "cell_type": "code",
   "execution_count": 1,
   "id": "00de761c",
   "metadata": {},
   "outputs": [],
   "source": [
    "import mysql.connector as con"
   ]
  },
  {
   "cell_type": "markdown",
   "id": "11164f84",
   "metadata": {},
   "source": [
    "# CONNECTION TO DATABASE"
   ]
  },
  {
   "cell_type": "code",
   "execution_count": 13,
   "id": "d7839283",
   "metadata": {},
   "outputs": [
    {
     "name": "stdout",
     "output_type": "stream",
     "text": [
      "<mysql.connector.connection_cext.CMySQLConnection object at 0x0000016428D17FD0>\n"
     ]
    }
   ],
   "source": [
    "import mysql.connector as con\n",
    "new_db=con.connect(host=\"localhost\",user=\"root\",password=\"root\")\n",
    "print(new_db)"
   ]
  },
  {
   "cell_type": "markdown",
   "id": "4c1ada9a",
   "metadata": {},
   "source": [
    "# CREATING A DATABASE"
   ]
  },
  {
   "cell_type": "code",
   "execution_count": 2,
   "id": "f8e13703",
   "metadata": {},
   "outputs": [],
   "source": [
    "import mysql.connector as con\n",
    "new_db=con.connect(\n",
    "host=\"localhost\",\n",
    "user=\"root\",\n",
    "password=\"root\"\n",
    ")\n",
    "\n",
    "new_cursor=new_db.cursor()\n",
    "new_cursor.execute(\"CREATE DATABASE college13\")"
   ]
  },
  {
   "cell_type": "markdown",
   "id": "4b61d497",
   "metadata": {},
   "source": [
    "# CHECK DATABSE CREATED OR NOT?"
   ]
  },
  {
   "cell_type": "code",
   "execution_count": 15,
   "id": "b128e8ea",
   "metadata": {},
   "outputs": [
    {
     "name": "stdout",
     "output_type": "stream",
     "text": [
      "('college',)\n",
      "('college1',)\n",
      "('college12',)\n",
      "('college123',)\n",
      "('information_schema',)\n",
      "('mysql',)\n",
      "('performance_schema',)\n",
      "('sakila',)\n",
      "('sys',)\n",
      "('world',)\n"
     ]
    }
   ],
   "source": [
    "import mysql.connector as con\n",
    "new_db=con.connect(\n",
    "host=\"localhost\",\n",
    "user=\"root\",\n",
    "password=\"root\"\n",
    ")\n",
    "\n",
    "new_cursor=new_db.cursor()\n",
    "new_cursor.execute(\"SHOW DATABASES\")\n",
    "for a in new_cursor:\n",
    "    print(a)"
   ]
  },
  {
   "cell_type": "markdown",
   "id": "23c70e77",
   "metadata": {},
   "source": [
    "# CREATING TABLES AND SHOWING DATA"
   ]
  },
  {
   "cell_type": "code",
   "execution_count": 1,
   "id": "61f2ef4a",
   "metadata": {},
   "outputs": [],
   "source": [
    "import mysql.connector as con\n",
    "new_db=con.connect(\n",
    "host=\"localhost\",\n",
    "user=\"root\",\n",
    "password=\"root\",\n",
    "database=\"college12\"\n",
    ")\n",
    "\n",
    "new_cursor=new_db.cursor()\n",
    "query=\"CREATE TABLE student14(rno int,name varchar(100))\"\n",
    "new_cursor.execute(query)"
   ]
  },
  {
   "cell_type": "markdown",
   "id": "42e74332",
   "metadata": {},
   "source": [
    "# LIST ALL TABLES IN NEW DATABASES"
   ]
  },
  {
   "cell_type": "code",
   "execution_count": 17,
   "id": "776b7d10",
   "metadata": {},
   "outputs": [],
   "source": [
    "query=\"CREATE TABLE teacher(tno int,tname varchar(100))\"\n",
    "new_cursor.execute(query)\n"
   ]
  },
  {
   "cell_type": "code",
   "execution_count": 18,
   "id": "f4403c6e",
   "metadata": {},
   "outputs": [
    {
     "name": "stdout",
     "output_type": "stream",
     "text": [
      "('student12',)\n",
      "('teacher',)\n",
      "('teacher12',)\n"
     ]
    }
   ],
   "source": [
    "new_cursor.execute(\"SHOW TABLES\")\n",
    "for a in new_cursor:\n",
    "    print(a)"
   ]
  },
  {
   "cell_type": "markdown",
   "id": "1d636b97",
   "metadata": {},
   "source": [
    "# DELETING A TABLE"
   ]
  },
  {
   "cell_type": "code",
   "execution_count": 26,
   "id": "5f093772",
   "metadata": {},
   "outputs": [],
   "source": [
    "new_cursor.execute(\"DROP TABLE student\")"
   ]
  },
  {
   "cell_type": "markdown",
   "id": "1dec9357",
   "metadata": {},
   "source": [
    "# INSERTING DATA INTO TABLES"
   ]
  },
  {
   "cell_type": "code",
   "execution_count": 19,
   "id": "11b2f56f",
   "metadata": {},
   "outputs": [
    {
     "name": "stdout",
     "output_type": "stream",
     "text": [
      "1 new record inserted\n"
     ]
    }
   ],
   "source": [
    "query=\"INSERT INTO student12(rno,name) VALUES (%s,%s)\"\n",
    "values=(\"1\",\"rahul\")\n",
    "\n",
    "new_cursor = new_db.cursor()\n",
    "\n",
    "new_cursor.execute(query,values)\n",
    "new_db.commit()\n",
    "print(new_cursor.rowcount,\"new record inserted\")"
   ]
  },
  {
   "cell_type": "code",
   "execution_count": 20,
   "id": "1c4ff526",
   "metadata": {},
   "outputs": [
    {
     "name": "stdout",
     "output_type": "stream",
     "text": [
      "3 new record inserted\n"
     ]
    }
   ],
   "source": [
    "sql=\"INSERT INTO student12(rno,name) VALUES (%s,%s)\"\n",
    "values=[(\"3\",\"gurunath\"),\n",
    "        (\"4\",\"sachin\"),\n",
    "        (\"5\",\"tanishk\")\n",
    "       ]\n",
    "new_cursor = new_db.cursor()\n",
    "new_cursor.executemany(sql,values)\n",
    "new_db.commit()\n",
    "print(new_cursor.rowcount,\"new record inserted\")"
   ]
  },
  {
   "cell_type": "markdown",
   "id": "4c1bed23",
   "metadata": {},
   "source": [
    "# DISPLAY RECORDS FROM TABLES"
   ]
  },
  {
   "cell_type": "code",
   "execution_count": 22,
   "id": "7d24dd37",
   "metadata": {},
   "outputs": [
    {
     "name": "stdout",
     "output_type": "stream",
     "text": [
      "(1, 'rahul')\n",
      "(1, 'rahul')\n",
      "(1, 'rahul')\n",
      "(3, 'gurunath')\n",
      "(4, 'sachin')\n",
      "(5, 'tanishk')\n"
     ]
    }
   ],
   "source": [
    "new_cursor = new_db.cursor()\n",
    "new_cursor.execute(\"SELECT * FROM student12 \")\n",
    "for a in new_cursor:\n",
    "    print(a)"
   ]
  },
  {
   "cell_type": "code",
   "execution_count": null,
   "id": "4272bcb4",
   "metadata": {},
   "outputs": [],
   "source": []
  }
 ],
 "metadata": {
  "kernelspec": {
   "display_name": "Python 3 (ipykernel)",
   "language": "python",
   "name": "python3"
  },
  "language_info": {
   "codemirror_mode": {
    "name": "ipython",
    "version": 3
   },
   "file_extension": ".py",
   "mimetype": "text/x-python",
   "name": "python",
   "nbconvert_exporter": "python",
   "pygments_lexer": "ipython3",
   "version": "3.9.12"
  }
 },
 "nbformat": 4,
 "nbformat_minor": 5
}
