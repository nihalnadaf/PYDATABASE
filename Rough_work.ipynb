{
 "cells": [
  {
   "cell_type": "code",
   "execution_count": 2,
   "id": "ff885979",
   "metadata": {},
   "outputs": [
    {
     "data": {
      "text/html": [
       "<div>\n",
       "<style scoped>\n",
       "    .dataframe tbody tr th:only-of-type {\n",
       "        vertical-align: middle;\n",
       "    }\n",
       "\n",
       "    .dataframe tbody tr th {\n",
       "        vertical-align: top;\n",
       "    }\n",
       "\n",
       "    .dataframe thead th {\n",
       "        text-align: right;\n",
       "    }\n",
       "</style>\n",
       "<table border=\"1\" class=\"dataframe\">\n",
       "  <thead>\n",
       "    <tr style=\"text-align: right;\">\n",
       "      <th></th>\n",
       "      <th>18.0   8.   307.0      130.0      3504.      12.0   70.  1.\\t\"chevrolet chevelle malibu\"</th>\n",
       "    </tr>\n",
       "  </thead>\n",
       "  <tbody>\n",
       "    <tr>\n",
       "      <th>0</th>\n",
       "      <td>15.0   8.   350.0      165.0      3693.      1...</td>\n",
       "    </tr>\n",
       "    <tr>\n",
       "      <th>1</th>\n",
       "      <td>18.0   8.   318.0      150.0      3436.      1...</td>\n",
       "    </tr>\n",
       "    <tr>\n",
       "      <th>2</th>\n",
       "      <td>16.0   8.   304.0      150.0      3433.      1...</td>\n",
       "    </tr>\n",
       "    <tr>\n",
       "      <th>3</th>\n",
       "      <td>17.0   8.   302.0      140.0      3449.      1...</td>\n",
       "    </tr>\n",
       "    <tr>\n",
       "      <th>4</th>\n",
       "      <td>15.0   8.   429.0      198.0      4341.      1...</td>\n",
       "    </tr>\n",
       "    <tr>\n",
       "      <th>...</th>\n",
       "      <td>...</td>\n",
       "    </tr>\n",
       "    <tr>\n",
       "      <th>400</th>\n",
       "      <td>27.0   4.   140.0      86.00      2790.      1...</td>\n",
       "    </tr>\n",
       "    <tr>\n",
       "      <th>401</th>\n",
       "      <td>44.0   4.   97.00      52.00      2130.      2...</td>\n",
       "    </tr>\n",
       "    <tr>\n",
       "      <th>402</th>\n",
       "      <td>32.0   4.   135.0      84.00      2295.      1...</td>\n",
       "    </tr>\n",
       "    <tr>\n",
       "      <th>403</th>\n",
       "      <td>28.0   4.   120.0      79.00      2625.      1...</td>\n",
       "    </tr>\n",
       "    <tr>\n",
       "      <th>404</th>\n",
       "      <td>31.0   4.   119.0      82.00      2720.      1...</td>\n",
       "    </tr>\n",
       "  </tbody>\n",
       "</table>\n",
       "<p>405 rows × 1 columns</p>\n",
       "</div>"
      ],
      "text/plain": [
       "    18.0   8.   307.0      130.0      3504.      12.0   70.  1.\\t\"chevrolet chevelle malibu\"\n",
       "0    15.0   8.   350.0      165.0      3693.      1...                                      \n",
       "1    18.0   8.   318.0      150.0      3436.      1...                                      \n",
       "2    16.0   8.   304.0      150.0      3433.      1...                                      \n",
       "3    17.0   8.   302.0      140.0      3449.      1...                                      \n",
       "4    15.0   8.   429.0      198.0      4341.      1...                                      \n",
       "..                                                 ...                                      \n",
       "400  27.0   4.   140.0      86.00      2790.      1...                                      \n",
       "401  44.0   4.   97.00      52.00      2130.      2...                                      \n",
       "402  32.0   4.   135.0      84.00      2295.      1...                                      \n",
       "403  28.0   4.   120.0      79.00      2625.      1...                                      \n",
       "404  31.0   4.   119.0      82.00      2720.      1...                                      \n",
       "\n",
       "[405 rows x 1 columns]"
      ]
     },
     "execution_count": 2,
     "metadata": {},
     "output_type": "execute_result"
    }
   ],
   "source": [
    "import pandas as pd\n",
    "#importing the data\n",
    "df = pd.read_csv(\"dataset/auto-mpg.csv\")\n",
    "df    #to know the column names, missing values and their data type"
   ]
  },
  {
   "cell_type": "code",
   "execution_count": null,
   "id": "2dc737c9",
   "metadata": {},
   "outputs": [],
   "source": []
  }
 ],
 "metadata": {
  "kernelspec": {
   "display_name": "Python 3 (ipykernel)",
   "language": "python",
   "name": "python3"
  },
  "language_info": {
   "codemirror_mode": {
    "name": "ipython",
    "version": 3
   },
   "file_extension": ".py",
   "mimetype": "text/x-python",
   "name": "python",
   "nbconvert_exporter": "python",
   "pygments_lexer": "ipython3",
   "version": "3.9.12"
  }
 },
 "nbformat": 4,
 "nbformat_minor": 5
}
